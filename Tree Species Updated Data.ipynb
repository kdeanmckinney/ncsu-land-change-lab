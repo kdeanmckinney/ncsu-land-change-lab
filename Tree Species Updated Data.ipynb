{
 "cells": [
  {
   "cell_type": "markdown",
   "id": "337ad2d5",
   "metadata": {},
   "source": [
    "# Updated Fire Ecology Dataset\n",
    "#### Kate Dean-McKinney & NCSU Land Change Lab\n",
    "(Last Updated 08/26/2024)"
   ]
  },
  {
   "cell_type": "code",
   "execution_count": 45,
   "id": "90b511d1",
   "metadata": {},
   "outputs": [],
   "source": [
    "import pandas as pd\n",
    "import numpy as np"
   ]
  },
  {
   "cell_type": "code",
   "execution_count": 95,
   "id": "053abe82",
   "metadata": {},
   "outputs": [],
   "source": [
    "TreeData_Total = pd.read_excel(\"ParksFuelsLCLUse.xlsx\")"
   ]
  },
  {
   "cell_type": "markdown",
   "id": "566d7538",
   "metadata": {},
   "source": [
    "## Sheet One: Total Fuels"
   ]
  },
  {
   "cell_type": "code",
   "execution_count": 50,
   "id": "3ace4be0",
   "metadata": {},
   "outputs": [],
   "source": [
    "#New Data Frame with just Pre Burn + 1,2,3,4 Year Post Burn\n",
    "TotalFuels = TreeData_Total[['Plot','PreBurn', '1yrPost', '2yrPost', '3yrPost', '4yrPost']].copy()"
   ]
  },
  {
   "cell_type": "code",
   "execution_count": 53,
   "id": "ec896927",
   "metadata": {},
   "outputs": [],
   "source": [
    "#Save New DF to .csv\n",
    "TotalFuels.to_csv('Total_Fuels.csv', index=False)"
   ]
  },
  {
   "cell_type": "markdown",
   "id": "46472ed7",
   "metadata": {},
   "source": [
    "## Sheet Two: Pre Burn Fuel Data"
   ]
  },
  {
   "cell_type": "code",
   "execution_count": 54,
   "id": "51bd8312",
   "metadata": {},
   "outputs": [],
   "source": [
    "#Pre Burn Data Frame (Sheet 2)\n",
    "TreeData_PreBurn = pd.read_excel(\"ParksFuelsLCLUse.xlsx\", \"PreburnFuels\")"
   ]
  },
  {
   "cell_type": "code",
   "execution_count": 61,
   "id": "dc66f1a0",
   "metadata": {},
   "outputs": [],
   "source": [
    "#New Dataframe with all columns renamed for ease of use\n",
    "PreBurn = TreeData_PreBurn.rename(columns={'Duff_00Pre': 'DuffPreBurn', 'Litt_00Pre': 'LitterPreBurn', '1hr_00Pre': '1hrPreBurn', \n",
    "                                 '10hr_00Pre': '10hrPreBurn', '100hr_00Pre': '100hrPreBurn', '1000hr00Pre': 'CWDPreBurn'})"
   ]
  },
  {
   "cell_type": "code",
   "execution_count": 62,
   "id": "d190d78c",
   "metadata": {},
   "outputs": [],
   "source": [
    "#Combine 1, 10 and 100 hr fuels data to create FWD\n",
    "PreBurn['FWDPreBurn'] = PreBurn['1hrPreBurn'] + PreBurn['10hrPreBurn'] + PreBurn['100hrPreBurn']"
   ]
  },
  {
   "cell_type": "code",
   "execution_count": 65,
   "id": "5d41ffda",
   "metadata": {
    "scrolled": true
   },
   "outputs": [],
   "source": [
    "#Drop Park and combined data\n",
    "PreBurnDF = PreBurn.drop(['1hrPreBurn', '10hrPreBurn', '100hrPreBurn', 'PARK'], axis =1 )"
   ]
  },
  {
   "cell_type": "code",
   "execution_count": 69,
   "id": "bd1c128b",
   "metadata": {},
   "outputs": [],
   "source": [
    "#Save New DF to .csv\n",
    "PreBurnDF.to_csv('PreBurnFuelsData.csv', index=False)"
   ]
  },
  {
   "cell_type": "markdown",
   "id": "4dff1bad",
   "metadata": {},
   "source": [
    "## Sheet Three: Fine Woody Debris (FWD) Fuel Data"
   ]
  },
  {
   "cell_type": "code",
   "execution_count": 72,
   "id": "3f0c1148",
   "metadata": {},
   "outputs": [],
   "source": [
    "#Fine Woody Debris Data Frame (Sheet 3)\n",
    "TreeData_FWD = pd.read_excel(\"ParksFuelsLCLUse.xlsx\", \"FWD\")"
   ]
  },
  {
   "cell_type": "code",
   "execution_count": 81,
   "id": "21bf8c4a",
   "metadata": {},
   "outputs": [],
   "source": [
    "#Rename Columns -- uniformity \n",
    "FWD = TreeData_FWD.rename(columns={'00Pre': 'PreBurn'})"
   ]
  },
  {
   "cell_type": "code",
   "execution_count": 83,
   "id": "cf9404af",
   "metadata": {},
   "outputs": [],
   "source": [
    "#Remove uneccesary columns\n",
    "FWD_Data = FWD[['Plot','PreBurn', '1yrPost', '2yrPost', '3yrPost', '4yrPost']].copy()"
   ]
  },
  {
   "cell_type": "code",
   "execution_count": 85,
   "id": "be609fb8",
   "metadata": {},
   "outputs": [],
   "source": [
    "#Save New DF to .csv\n",
    "FWD_Data.to_csv('FWD_Fuels_Data.csv', index=False)"
   ]
  },
  {
   "cell_type": "markdown",
   "id": "2406e4af",
   "metadata": {},
   "source": [
    "## Sheet Four: Course Woody Debris (CWD) Fuel Data"
   ]
  },
  {
   "cell_type": "code",
   "execution_count": 92,
   "id": "f2fc6cc4",
   "metadata": {},
   "outputs": [],
   "source": [
    "TreeData_CWD = pd.read_excel(\"ParksFuelsLCLUse.xlsx\", \"CWD\")"
   ]
  },
  {
   "cell_type": "code",
   "execution_count": 98,
   "id": "78e189f4",
   "metadata": {},
   "outputs": [],
   "source": [
    "#Rename Columns -- uniformity \n",
    "CWD = TreeData_CWD.rename(columns={'00Pre': 'PreBurn', '02Post': '2yrPost', '03Post': '3yrPost', '04Post': \n",
    "                                  '4yrPost'})"
   ]
  },
  {
   "cell_type": "code",
   "execution_count": 100,
   "id": "5860a09a",
   "metadata": {},
   "outputs": [],
   "source": [
    "#Remove uneccesary columns\n",
    "CWD_Data = CWD[['Plot','PreBurn', '1yrPost', '2yrPost', '3yrPost', '4yrPost']].copy()"
   ]
  },
  {
   "cell_type": "code",
   "execution_count": 102,
   "id": "23592ed7",
   "metadata": {},
   "outputs": [],
   "source": [
    "#Save New DF to .csv\n",
    "CWD_Data.to_csv('CWD_Fuels_Data.csv', index=False)"
   ]
  },
  {
   "cell_type": "markdown",
   "id": "c1d5b91e",
   "metadata": {},
   "source": [
    "## Sheet Five: Litter Fuel Data"
   ]
  },
  {
   "cell_type": "code",
   "execution_count": 104,
   "id": "361310ca",
   "metadata": {},
   "outputs": [],
   "source": [
    "TreeData_Litter = pd.read_excel(\"ParksFuelsLCLUse.xlsx\", \"Litter\")"
   ]
  },
  {
   "cell_type": "code",
   "execution_count": 106,
   "id": "89108e12",
   "metadata": {},
   "outputs": [],
   "source": [
    "#Rename Columns -- uniformity \n",
    "Litter = TreeData_Litter.rename(columns={'00Pre': 'PreBurn'})"
   ]
  },
  {
   "cell_type": "code",
   "execution_count": 107,
   "id": "41b81eae",
   "metadata": {},
   "outputs": [],
   "source": [
    "#Remove uneccesary columns\n",
    "Litter_Data = Litter[['Plot','PreBurn', '1yrPost', '2yrPost', '3yrPost', '4yrPost']].copy()"
   ]
  },
  {
   "cell_type": "code",
   "execution_count": 109,
   "id": "c12abf71",
   "metadata": {},
   "outputs": [],
   "source": [
    "#Save New DF to .csv\n",
    "Litter_Data.to_csv('Litter_Fuels_Data.csv', index=False)"
   ]
  },
  {
   "cell_type": "markdown",
   "id": "02b0fa68",
   "metadata": {},
   "source": [
    "## Sheet Six: Duff Fuel Data"
   ]
  },
  {
   "cell_type": "code",
   "execution_count": 110,
   "id": "14b441d1",
   "metadata": {},
   "outputs": [],
   "source": [
    "TreeData_Duff = pd.read_excel(\"ParksFuelsLCLUse.xlsx\", \"Duff\")"
   ]
  },
  {
   "cell_type": "code",
   "execution_count": 111,
   "id": "be0c304e",
   "metadata": {},
   "outputs": [],
   "source": [
    "#Rename Columns -- uniformity \n",
    "Duff = TreeData_Duff.rename(columns={'00Pre': 'PreBurn'})"
   ]
  },
  {
   "cell_type": "code",
   "execution_count": 112,
   "id": "13d247a6",
   "metadata": {},
   "outputs": [],
   "source": [
    "#Remove uneccesary columns\n",
    "Duff_Data = Duff[['Plot','PreBurn', '1yrPost', '2yrPost', '3yrPost', '4yrPost']].copy()"
   ]
  },
  {
   "cell_type": "code",
   "execution_count": 114,
   "id": "f382caf3",
   "metadata": {},
   "outputs": [],
   "source": [
    "#Save New DF to .csv\n",
    "Duff_Data.to_csv('Duff_Fuels_Data.csv', index=False)"
   ]
  },
  {
   "cell_type": "markdown",
   "id": "8592caa3",
   "metadata": {},
   "source": [
    "## Sheet Seven: Depth (Duff + Litter) Fuel Data"
   ]
  },
  {
   "cell_type": "code",
   "execution_count": 115,
   "id": "b37e470e",
   "metadata": {},
   "outputs": [
    {
     "data": {
      "text/html": [
       "<div>\n",
       "<style scoped>\n",
       "    .dataframe tbody tr th:only-of-type {\n",
       "        vertical-align: middle;\n",
       "    }\n",
       "\n",
       "    .dataframe tbody tr th {\n",
       "        vertical-align: top;\n",
       "    }\n",
       "\n",
       "    .dataframe thead th {\n",
       "        text-align: right;\n",
       "    }\n",
       "</style>\n",
       "<table border=\"1\" class=\"dataframe\">\n",
       "  <thead>\n",
       "    <tr style=\"text-align: right;\">\n",
       "      <th></th>\n",
       "      <th>Plot</th>\n",
       "      <th>00Pre</th>\n",
       "      <th>01Post</th>\n",
       "      <th>01yr02</th>\n",
       "      <th>01yr3-5</th>\n",
       "      <th>2yrPost</th>\n",
       "      <th>02Post</th>\n",
       "      <th>02yr4-9</th>\n",
       "      <th>3yrPost</th>\n",
       "      <th>03yr02</th>\n",
       "      <th>03yr5-7</th>\n",
       "      <th>4yrPost</th>\n",
       "    </tr>\n",
       "  </thead>\n",
       "  <tbody>\n",
       "    <tr>\n",
       "      <th>0</th>\n",
       "      <td>AB0001</td>\n",
       "      <td>3.925</td>\n",
       "      <td>1.720</td>\n",
       "      <td>NaN</td>\n",
       "      <td>NaN</td>\n",
       "      <td>NaN</td>\n",
       "      <td>NaN</td>\n",
       "      <td>NaN</td>\n",
       "      <td>NaN</td>\n",
       "      <td>NaN</td>\n",
       "      <td>NaN</td>\n",
       "      <td>NaN</td>\n",
       "    </tr>\n",
       "    <tr>\n",
       "      <th>1</th>\n",
       "      <td>AB0002</td>\n",
       "      <td>2.815</td>\n",
       "      <td>1.485</td>\n",
       "      <td>NaN</td>\n",
       "      <td>NaN</td>\n",
       "      <td>NaN</td>\n",
       "      <td>NaN</td>\n",
       "      <td>NaN</td>\n",
       "      <td>NaN</td>\n",
       "      <td>NaN</td>\n",
       "      <td>NaN</td>\n",
       "      <td>NaN</td>\n",
       "    </tr>\n",
       "    <tr>\n",
       "      <th>2</th>\n",
       "      <td>AB0003</td>\n",
       "      <td>2.915</td>\n",
       "      <td>0.910</td>\n",
       "      <td>NaN</td>\n",
       "      <td>NaN</td>\n",
       "      <td>NaN</td>\n",
       "      <td>NaN</td>\n",
       "      <td>NaN</td>\n",
       "      <td>NaN</td>\n",
       "      <td>NaN</td>\n",
       "      <td>NaN</td>\n",
       "      <td>NaN</td>\n",
       "    </tr>\n",
       "    <tr>\n",
       "      <th>3</th>\n",
       "      <td>AB0004</td>\n",
       "      <td>3.690</td>\n",
       "      <td>1.740</td>\n",
       "      <td>NaN</td>\n",
       "      <td>NaN</td>\n",
       "      <td>NaN</td>\n",
       "      <td>NaN</td>\n",
       "      <td>NaN</td>\n",
       "      <td>NaN</td>\n",
       "      <td>NaN</td>\n",
       "      <td>NaN</td>\n",
       "      <td>NaN</td>\n",
       "    </tr>\n",
       "    <tr>\n",
       "      <th>4</th>\n",
       "      <td>AB0005</td>\n",
       "      <td>4.105</td>\n",
       "      <td>3.015</td>\n",
       "      <td>NaN</td>\n",
       "      <td>NaN</td>\n",
       "      <td>NaN</td>\n",
       "      <td>NaN</td>\n",
       "      <td>NaN</td>\n",
       "      <td>NaN</td>\n",
       "      <td>NaN</td>\n",
       "      <td>NaN</td>\n",
       "      <td>NaN</td>\n",
       "    </tr>\n",
       "  </tbody>\n",
       "</table>\n",
       "</div>"
      ],
      "text/plain": [
       "     Plot  00Pre  01Post  01yr02  01yr3-5  2yrPost  02Post  02yr4-9  3yrPost  \\\n",
       "0  AB0001  3.925   1.720     NaN      NaN      NaN     NaN      NaN      NaN   \n",
       "1  AB0002  2.815   1.485     NaN      NaN      NaN     NaN      NaN      NaN   \n",
       "2  AB0003  2.915   0.910     NaN      NaN      NaN     NaN      NaN      NaN   \n",
       "3  AB0004  3.690   1.740     NaN      NaN      NaN     NaN      NaN      NaN   \n",
       "4  AB0005  4.105   3.015     NaN      NaN      NaN     NaN      NaN      NaN   \n",
       "\n",
       "   03yr02  03yr5-7  4yrPost  \n",
       "0     NaN      NaN      NaN  \n",
       "1     NaN      NaN      NaN  \n",
       "2     NaN      NaN      NaN  \n",
       "3     NaN      NaN      NaN  \n",
       "4     NaN      NaN      NaN  "
      ]
     },
     "execution_count": 115,
     "metadata": {},
     "output_type": "execute_result"
    }
   ],
   "source": [
    "TreeData_Depth = pd.read_excel(\"ParksFuelsLCLUse.xlsx\", \"Depth(in) Litt+Duff\")\n",
    "TreeData_Depth.head()"
   ]
  },
  {
   "cell_type": "code",
   "execution_count": 118,
   "id": "205b952a",
   "metadata": {},
   "outputs": [],
   "source": [
    "#Rename Columns -- uniformity \n",
    "Depth = TreeData_Depth.rename(columns={'00Pre': 'PreBurn', '01Post': '1yrPost', '02Post': '2yrPost', '03Post': '3yrPost', '04Post': \n",
    "                                  '4yrPost'})"
   ]
  },
  {
   "cell_type": "code",
   "execution_count": 119,
   "id": "76660472",
   "metadata": {},
   "outputs": [],
   "source": [
    "#Remove uneccesary columns\n",
    "Depth_Data = Depth[['Plot','PreBurn', '1yrPost', '2yrPost', '3yrPost', '4yrPost']].copy()"
   ]
  },
  {
   "cell_type": "code",
   "execution_count": 121,
   "id": "24975abc",
   "metadata": {},
   "outputs": [],
   "source": [
    "#Save New DF to .csv\n",
    "Depth_Data.to_csv('Depth_Fuels_Data.csv', index=False)"
   ]
  },
  {
   "cell_type": "code",
   "execution_count": null,
   "id": "93f0b936",
   "metadata": {},
   "outputs": [],
   "source": []
  }
 ],
 "metadata": {
  "kernelspec": {
   "display_name": "Python 3",
   "language": "python",
   "name": "python3"
  },
  "language_info": {
   "codemirror_mode": {
    "name": "ipython",
    "version": 3
   },
   "file_extension": ".py",
   "mimetype": "text/x-python",
   "name": "python",
   "nbconvert_exporter": "python",
   "pygments_lexer": "ipython3",
   "version": "3.8.8"
  }
 },
 "nbformat": 4,
 "nbformat_minor": 5
}
