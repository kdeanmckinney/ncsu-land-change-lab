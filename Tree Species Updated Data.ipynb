{
 "cells": [
  {
   "cell_type": "markdown",
   "id": "337ad2d5",
   "metadata": {},
   "source": [
    "# Updated Fire Ecology Dataset\n",
    "#### Kate Dean-McKinney & NCSU Land Change Lab\n",
    "(Last Updated 08/26/2024)"
   ]
  },
  {
   "cell_type": "code",
   "execution_count": 86,
   "id": "90b511d1",
   "metadata": {},
   "outputs": [],
   "source": [
    "import pandas as pd\n",
    "import numpy as np\n",
    "import os"
   ]
  },
  {
   "cell_type": "code",
   "execution_count": 87,
   "id": "3c659af8",
   "metadata": {},
   "outputs": [],
   "source": [
    "os.chdir('/Users/katedeanmckinney/Desktop/NCSU Fire Ecology/Updated Fire Ecology Data')"
   ]
  },
  {
   "cell_type": "code",
   "execution_count": 88,
   "id": "053abe82",
   "metadata": {},
   "outputs": [],
   "source": [
    "TreeData_Total = pd.read_excel(\"ParksFuelsLCLUse.xlsx\")"
   ]
  },
  {
   "cell_type": "markdown",
   "id": "566d7538",
   "metadata": {},
   "source": [
    "## Sheet One: Total Fuels"
   ]
  },
  {
   "cell_type": "code",
   "execution_count": 89,
   "id": "3ace4be0",
   "metadata": {},
   "outputs": [],
   "source": [
    "#New Data Frame with just Pre Burn + 1st Burn, 2nd Burn, 3rd Burn, 4th Burn\n",
    "TotalFuels = TreeData_Total[['Plot','PreBurn', '1yrPost', '2yrPost', '3yrPost', '4yrPost']].copy()\n",
    "TotalFuels = TotalFuels.rename(columns={'1yrPost': '1st Burn', '2yrPost': '2nd Burn', '3yrPost': '3rd Burn', '4yrPost': '4th Burn'})"
   ]
  },
  {
   "cell_type": "code",
   "execution_count": 90,
   "id": "ec896927",
   "metadata": {},
   "outputs": [],
   "source": [
    "#Save New DF to .csv (uncomment line below to save)\n",
    "#TotalFuels.to_csv('Total_Fuels.csv', index=False)"
   ]
  },
  {
   "cell_type": "markdown",
   "id": "46472ed7",
   "metadata": {},
   "source": [
    "## Sheet Two: Pre Burn Fuel Data"
   ]
  },
  {
   "cell_type": "code",
   "execution_count": 91,
   "id": "51bd8312",
   "metadata": {},
   "outputs": [],
   "source": [
    "#Pre Burn Data Frame (Sheet 2)\n",
    "TreeData_PreBurn = pd.read_excel(\"ParksFuelsLCLUse.xlsx\", \"PreburnFuels\")"
   ]
  },
  {
   "cell_type": "code",
   "execution_count": 92,
   "id": "dc66f1a0",
   "metadata": {},
   "outputs": [],
   "source": [
    "#New Dataframe with all columns renamed for ease of use\n",
    "PreBurn = TreeData_PreBurn.rename(columns={'Duff_00Pre': 'DuffPreBurn', 'Litt_00Pre': 'LitterPreBurn', '1hr_00Pre': '1hrPreBurn', \n",
    "                                 '10hr_00Pre': '10hrPreBurn', '100hr_00Pre': '100hrPreBurn', '1000hr00Pre': 'CWDPreBurn'})"
   ]
  },
  {
   "cell_type": "code",
   "execution_count": 93,
   "id": "d190d78c",
   "metadata": {},
   "outputs": [],
   "source": [
    "#Combine 1, 10 and 100 hr fuels data to create FWD\n",
    "PreBurn['FWDPreBurn'] = PreBurn['1hrPreBurn'] + PreBurn['10hrPreBurn'] + PreBurn['100hrPreBurn']"
   ]
  },
  {
   "cell_type": "code",
   "execution_count": 94,
   "id": "5d41ffda",
   "metadata": {
    "scrolled": true
   },
   "outputs": [],
   "source": [
    "#Drop Park and combined data\n",
    "PreBurn = PreBurn.drop(['1hrPreBurn', '10hrPreBurn', '100hrPreBurn', 'PARK'], axis =1 )"
   ]
  },
  {
   "cell_type": "code",
   "execution_count": 95,
   "id": "bd1c128b",
   "metadata": {},
   "outputs": [],
   "source": [
    "#Save New DF to .csv (uncomment line below to save)\n",
    "#PreBurn.to_csv('PreBurnFuelsData.csv', index=False)"
   ]
  },
  {
   "cell_type": "markdown",
   "id": "4dff1bad",
   "metadata": {},
   "source": [
    "## Sheet Three: Fine Woody Debris (FWD) Fuel Data"
   ]
  },
  {
   "cell_type": "code",
   "execution_count": 96,
   "id": "3f0c1148",
   "metadata": {},
   "outputs": [],
   "source": [
    "#Fine Woody Debris Data Frame (Sheet 3)\n",
    "TreeData_FWD = pd.read_excel(\"ParksFuelsLCLUse.xlsx\", \"FWD\")"
   ]
  },
  {
   "cell_type": "code",
   "execution_count": 97,
   "id": "21bf8c4a",
   "metadata": {},
   "outputs": [],
   "source": [
    "#Rename Columns -- uniformity \n",
    "FWD = TreeData_FWD.rename(columns={'00Pre': 'PreBurn','1yrPost': '1st Burn', '2yrPost': '2nd Burn', '3yrPost': '3rd Burn', '4yrPost': '4th Burn' })"
   ]
  },
  {
   "cell_type": "code",
   "execution_count": 98,
   "id": "cf9404af",
   "metadata": {},
   "outputs": [],
   "source": [
    "#Remove uneccesary columns\n",
    "FWD = FWD[['Plot','PreBurn', '1st Burn', '2nd Burn', '3rd Burn', '4th Burn']].copy()"
   ]
  },
  {
   "cell_type": "code",
   "execution_count": 99,
   "id": "be609fb8",
   "metadata": {},
   "outputs": [],
   "source": [
    "#Save New DF to .csv (uncomment line below to save)\n",
    "#FWD.to_csv('FWD_Fuels_Data.csv', index=False)"
   ]
  },
  {
   "cell_type": "markdown",
   "id": "2406e4af",
   "metadata": {},
   "source": [
    "## Sheet Four: Course Woody Debris (CWD) Fuel Data"
   ]
  },
  {
   "cell_type": "code",
   "execution_count": 100,
   "id": "f2fc6cc4",
   "metadata": {},
   "outputs": [],
   "source": [
    "TreeData_CWD = pd.read_excel(\"ParksFuelsLCLUse.xlsx\", \"CWD\")"
   ]
  },
  {
   "cell_type": "code",
   "execution_count": 106,
   "id": "78e189f4",
   "metadata": {},
   "outputs": [],
   "source": [
    "#Rename Columns -- uniformity \n",
    "CWD = TreeData_CWD.rename(columns={'00Pre': 'PreBurn', '1yrPost': '1st Burn','2yrPost': '2nd Burn', '3yrPost': '3rd Burn', '4yrPost': \n",
    "                                  '4th Burn'})"
   ]
  },
  {
   "cell_type": "code",
   "execution_count": 107,
   "id": "5860a09a",
   "metadata": {},
   "outputs": [],
   "source": [
    "#Remove uneccesary columns\n",
    "CWD = CWD[['Plot','PreBurn', '1st Burn', '2nd Burn', '3rd Burn', '4th Burn']].copy()"
   ]
  },
  {
   "cell_type": "code",
   "execution_count": 108,
   "id": "23592ed7",
   "metadata": {},
   "outputs": [],
   "source": [
    "#Save New DF to .csv (uncomment line below to save)\n",
    "#CWD.to_csv('CWD_Fuels_Data.csv', index=False)"
   ]
  },
  {
   "cell_type": "markdown",
   "id": "c1d5b91e",
   "metadata": {},
   "source": [
    "## Sheet Five: Litter Fuel Data"
   ]
  },
  {
   "cell_type": "code",
   "execution_count": 109,
   "id": "361310ca",
   "metadata": {},
   "outputs": [],
   "source": [
    "TreeData_Litter = pd.read_excel(\"ParksFuelsLCLUse.xlsx\", \"Litter\")"
   ]
  },
  {
   "cell_type": "code",
   "execution_count": 110,
   "id": "89108e12",
   "metadata": {},
   "outputs": [],
   "source": [
    "#Rename Columns -- uniformity \n",
    "Litter = TreeData_Litter.rename(columns={'00Pre': 'PreBurn', '1yrPost': '1st Burn','2yrPost': '2nd Burn', '3yrPost': '3rd Burn', '4yrPost': \n",
    "                                  '4th Burn'})"
   ]
  },
  {
   "cell_type": "code",
   "execution_count": 111,
   "id": "41b81eae",
   "metadata": {},
   "outputs": [],
   "source": [
    "#Remove uneccesary columns\n",
    "Litter = Litter[['Plot','PreBurn', '1st Burn', '2nd Burn', '3rd Burn', '4th Burn']].copy()"
   ]
  },
  {
   "cell_type": "code",
   "execution_count": 112,
   "id": "c12abf71",
   "metadata": {},
   "outputs": [],
   "source": [
    "#Save New DF to .csv (uncomment line below to save)\n",
    "#Litter.to_csv('Litter_Fuels_Data.csv', index=False)"
   ]
  },
  {
   "cell_type": "markdown",
   "id": "02b0fa68",
   "metadata": {},
   "source": [
    "## Sheet Six: Duff Fuel Data"
   ]
  },
  {
   "cell_type": "code",
   "execution_count": 113,
   "id": "14b441d1",
   "metadata": {},
   "outputs": [],
   "source": [
    "TreeData_Duff = pd.read_excel(\"ParksFuelsLCLUse.xlsx\", \"Duff\")"
   ]
  },
  {
   "cell_type": "code",
   "execution_count": 114,
   "id": "be0c304e",
   "metadata": {},
   "outputs": [],
   "source": [
    "#Rename Columns -- uniformity \n",
    "Duff = TreeData_Duff.rename(columns={'00Pre': 'PreBurn', '1yrPost': '1st Burn','2yrPost': '2nd Burn', '3yrPost': '3rd Burn', '4yrPost': \n",
    "                                  '4th Burn'})"
   ]
  },
  {
   "cell_type": "code",
   "execution_count": 115,
   "id": "13d247a6",
   "metadata": {},
   "outputs": [],
   "source": [
    "#Remove uneccesary columns\n",
    "Duff = Duff[['Plot','PreBurn', '1st Burn', '2nd Burn', '3rd Burn', '4th Burn']].copy()"
   ]
  },
  {
   "cell_type": "code",
   "execution_count": 116,
   "id": "f382caf3",
   "metadata": {},
   "outputs": [],
   "source": [
    "#Save New DF to .csv (uncomment line below to save)\n",
    "#Duff.to_csv('Duff_Fuels_Data.csv', index=False)"
   ]
  },
  {
   "cell_type": "markdown",
   "id": "8592caa3",
   "metadata": {},
   "source": [
    "## Sheet Seven: Depth (Duff + Litter) Fuel Data"
   ]
  },
  {
   "cell_type": "code",
   "execution_count": 117,
   "id": "b37e470e",
   "metadata": {},
   "outputs": [],
   "source": [
    "TreeData_Depth = pd.read_excel(\"ParksFuelsLCLUse.xlsx\", \"Depth(in) Litt+Duff\")\n",
    "#TreeData_Depth.head()"
   ]
  },
  {
   "cell_type": "code",
   "execution_count": 118,
   "id": "205b952a",
   "metadata": {},
   "outputs": [],
   "source": [
    "#Rename Columns -- uniformity \n",
    "Depth = TreeData_Depth.rename(columns={'00Pre': 'PreBurn', '01Post': '1st Burn','2yrPost': '2nd Burn', '3yrPost': '3rd Burn', '4yrPost': \n",
    "                                  '4th Burn'})"
   ]
  },
  {
   "cell_type": "code",
   "execution_count": 119,
   "id": "76660472",
   "metadata": {},
   "outputs": [],
   "source": [
    "#Remove uneccesary columns\n",
    "Depth = Depth[['Plot','PreBurn', '1st Burn', '2nd Burn', '3rd Burn', '4th Burn']].copy()"
   ]
  },
  {
   "cell_type": "code",
   "execution_count": 120,
   "id": "24975abc",
   "metadata": {},
   "outputs": [],
   "source": [
    "#Save New DF to .csv (uncomment line below to save)\n",
    "#Depth.to_csv('Depth_Fuels_Data.csv', index=False)"
   ]
  }
 ],
 "metadata": {
  "kernelspec": {
   "display_name": "Python 3",
   "language": "python",
   "name": "python3"
  },
  "language_info": {
   "codemirror_mode": {
    "name": "ipython",
    "version": 3
   },
   "file_extension": ".py",
   "mimetype": "text/x-python",
   "name": "python",
   "nbconvert_exporter": "python",
   "pygments_lexer": "ipython3",
   "version": "3.8.8"
  }
 },
 "nbformat": 4,
 "nbformat_minor": 5
}
